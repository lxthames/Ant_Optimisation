{
  "cells": [
    {
      "cell_type": "markdown",
      "metadata": {
        "id": "view-in-github",
        "colab_type": "text"
      },
      "source": [
        "<a href=\"https://colab.research.google.com/github/lxthames/Ant_Optimisation/blob/main/assignment%20network%2012.ipynb\" target=\"_parent\"><img src=\"https://colab.research.google.com/assets/colab-badge.svg\" alt=\"Open In Colab\"/></a>"
      ]
    },
    {
      "cell_type": "markdown",
      "id": "0829b27d",
      "metadata": {
        "id": "0829b27d"
      },
      "source": [
        "# Assignment — Link prediction"
      ]
    },
    {
      "cell_type": "code",
      "execution_count": null,
      "id": "db7183ea",
      "metadata": {
        "id": "db7183ea"
      },
      "outputs": [],
      "source": [
        "from tqdm.notebook import tqdm\n",
        "from sklearn.linear_model import LogisticRegression\n",
        "from sklearn.metrics import roc_curve, auc\n",
        "import pandas as pd\n",
        "from sklearn.decomposition import TruncatedSVD\n",
        "import matplotlib.pyplot as plt\n",
        "import networkx as nx\n",
        "import requests\n",
        "import numpy as np"
      ]
    },
    {
      "cell_type": "markdown",
      "id": "89e0bcaa",
      "metadata": {
        "id": "89e0bcaa"
      },
      "source": [
        "### Task 1. Dataset for link prediction (0 points)"
      ]
    },
    {
      "cell_type": "markdown",
      "id": "d835335e",
      "metadata": {
        "id": "d835335e"
      },
      "source": [
        "Consider link prediction on the [e-mails network](http://snap.stanford.edu/data/email-Eu-core-temporal.html) where nodes are members of a research institution and edges are e-mails given with timestamps. The goal is to predict occurrence of edges in the test time period using information from the train time period only."
      ]
    },
    {
      "cell_type": "code",
      "execution_count": null,
      "id": "d15fc220",
      "metadata": {
        "id": "d15fc220"
      },
      "outputs": [],
      "source": [
        "url = 'https://raw.githubusercontent.com/netspractice/network-science/main/datasets/email-Eu-core-temporal.txt'\n",
        "open('email-Eu-core-temporal.txt', 'wb').write(requests.get(url).content);\n"
      ]
    },
    {
      "cell_type": "code",
      "execution_count": null,
      "id": "abfb0522",
      "metadata": {
        "id": "abfb0522",
        "colab": {
          "base_uri": "https://localhost:8080/",
          "height": 423
        },
        "outputId": "bcd12120-adc2-4b20-8a1b-ad326e26227d"
      },
      "outputs": [
        {
          "output_type": "execute_result",
          "data": {
            "text/plain": [
              "        sender  receiver  timestamp\n",
              "0          582       364          0\n",
              "1          168       472       2797\n",
              "2          168       912       3304\n",
              "3            2       790       4523\n",
              "4            2       322       7926\n",
              "...        ...       ...        ...\n",
              "332329     324       367   45401817\n",
              "332330     790       126   45402441\n",
              "332331     790       126   45403709\n",
              "332332     782       126   45404903\n",
              "332333     685       643   45405138\n",
              "\n",
              "[332334 rows x 3 columns]"
            ],
            "text/html": [
              "\n",
              "  <div id=\"df-186e2906-2507-41ab-ae05-06f2f876d518\" class=\"colab-df-container\">\n",
              "    <div>\n",
              "<style scoped>\n",
              "    .dataframe tbody tr th:only-of-type {\n",
              "        vertical-align: middle;\n",
              "    }\n",
              "\n",
              "    .dataframe tbody tr th {\n",
              "        vertical-align: top;\n",
              "    }\n",
              "\n",
              "    .dataframe thead th {\n",
              "        text-align: right;\n",
              "    }\n",
              "</style>\n",
              "<table border=\"1\" class=\"dataframe\">\n",
              "  <thead>\n",
              "    <tr style=\"text-align: right;\">\n",
              "      <th></th>\n",
              "      <th>sender</th>\n",
              "      <th>receiver</th>\n",
              "      <th>timestamp</th>\n",
              "    </tr>\n",
              "  </thead>\n",
              "  <tbody>\n",
              "    <tr>\n",
              "      <th>0</th>\n",
              "      <td>582</td>\n",
              "      <td>364</td>\n",
              "      <td>0</td>\n",
              "    </tr>\n",
              "    <tr>\n",
              "      <th>1</th>\n",
              "      <td>168</td>\n",
              "      <td>472</td>\n",
              "      <td>2797</td>\n",
              "    </tr>\n",
              "    <tr>\n",
              "      <th>2</th>\n",
              "      <td>168</td>\n",
              "      <td>912</td>\n",
              "      <td>3304</td>\n",
              "    </tr>\n",
              "    <tr>\n",
              "      <th>3</th>\n",
              "      <td>2</td>\n",
              "      <td>790</td>\n",
              "      <td>4523</td>\n",
              "    </tr>\n",
              "    <tr>\n",
              "      <th>4</th>\n",
              "      <td>2</td>\n",
              "      <td>322</td>\n",
              "      <td>7926</td>\n",
              "    </tr>\n",
              "    <tr>\n",
              "      <th>...</th>\n",
              "      <td>...</td>\n",
              "      <td>...</td>\n",
              "      <td>...</td>\n",
              "    </tr>\n",
              "    <tr>\n",
              "      <th>332329</th>\n",
              "      <td>324</td>\n",
              "      <td>367</td>\n",
              "      <td>45401817</td>\n",
              "    </tr>\n",
              "    <tr>\n",
              "      <th>332330</th>\n",
              "      <td>790</td>\n",
              "      <td>126</td>\n",
              "      <td>45402441</td>\n",
              "    </tr>\n",
              "    <tr>\n",
              "      <th>332331</th>\n",
              "      <td>790</td>\n",
              "      <td>126</td>\n",
              "      <td>45403709</td>\n",
              "    </tr>\n",
              "    <tr>\n",
              "      <th>332332</th>\n",
              "      <td>782</td>\n",
              "      <td>126</td>\n",
              "      <td>45404903</td>\n",
              "    </tr>\n",
              "    <tr>\n",
              "      <th>332333</th>\n",
              "      <td>685</td>\n",
              "      <td>643</td>\n",
              "      <td>45405138</td>\n",
              "    </tr>\n",
              "  </tbody>\n",
              "</table>\n",
              "<p>332334 rows × 3 columns</p>\n",
              "</div>\n",
              "    <div class=\"colab-df-buttons\">\n",
              "\n",
              "  <div class=\"colab-df-container\">\n",
              "    <button class=\"colab-df-convert\" onclick=\"convertToInteractive('df-186e2906-2507-41ab-ae05-06f2f876d518')\"\n",
              "            title=\"Convert this dataframe to an interactive table.\"\n",
              "            style=\"display:none;\">\n",
              "\n",
              "  <svg xmlns=\"http://www.w3.org/2000/svg\" height=\"24px\" viewBox=\"0 -960 960 960\">\n",
              "    <path d=\"M120-120v-720h720v720H120Zm60-500h600v-160H180v160Zm220 220h160v-160H400v160Zm0 220h160v-160H400v160ZM180-400h160v-160H180v160Zm440 0h160v-160H620v160ZM180-180h160v-160H180v160Zm440 0h160v-160H620v160Z\"/>\n",
              "  </svg>\n",
              "    </button>\n",
              "\n",
              "  <style>\n",
              "    .colab-df-container {\n",
              "      display:flex;\n",
              "      gap: 12px;\n",
              "    }\n",
              "\n",
              "    .colab-df-convert {\n",
              "      background-color: #E8F0FE;\n",
              "      border: none;\n",
              "      border-radius: 50%;\n",
              "      cursor: pointer;\n",
              "      display: none;\n",
              "      fill: #1967D2;\n",
              "      height: 32px;\n",
              "      padding: 0 0 0 0;\n",
              "      width: 32px;\n",
              "    }\n",
              "\n",
              "    .colab-df-convert:hover {\n",
              "      background-color: #E2EBFA;\n",
              "      box-shadow: 0px 1px 2px rgba(60, 64, 67, 0.3), 0px 1px 3px 1px rgba(60, 64, 67, 0.15);\n",
              "      fill: #174EA6;\n",
              "    }\n",
              "\n",
              "    .colab-df-buttons div {\n",
              "      margin-bottom: 4px;\n",
              "    }\n",
              "\n",
              "    [theme=dark] .colab-df-convert {\n",
              "      background-color: #3B4455;\n",
              "      fill: #D2E3FC;\n",
              "    }\n",
              "\n",
              "    [theme=dark] .colab-df-convert:hover {\n",
              "      background-color: #434B5C;\n",
              "      box-shadow: 0px 1px 3px 1px rgba(0, 0, 0, 0.15);\n",
              "      filter: drop-shadow(0px 1px 2px rgba(0, 0, 0, 0.3));\n",
              "      fill: #FFFFFF;\n",
              "    }\n",
              "  </style>\n",
              "\n",
              "    <script>\n",
              "      const buttonEl =\n",
              "        document.querySelector('#df-186e2906-2507-41ab-ae05-06f2f876d518 button.colab-df-convert');\n",
              "      buttonEl.style.display =\n",
              "        google.colab.kernel.accessAllowed ? 'block' : 'none';\n",
              "\n",
              "      async function convertToInteractive(key) {\n",
              "        const element = document.querySelector('#df-186e2906-2507-41ab-ae05-06f2f876d518');\n",
              "        const dataTable =\n",
              "          await google.colab.kernel.invokeFunction('convertToInteractive',\n",
              "                                                    [key], {});\n",
              "        if (!dataTable) return;\n",
              "\n",
              "        const docLinkHtml = 'Like what you see? Visit the ' +\n",
              "          '<a target=\"_blank\" href=https://colab.research.google.com/notebooks/data_table.ipynb>data table notebook</a>'\n",
              "          + ' to learn more about interactive tables.';\n",
              "        element.innerHTML = '';\n",
              "        dataTable['output_type'] = 'display_data';\n",
              "        await google.colab.output.renderOutput(dataTable, element);\n",
              "        const docLink = document.createElement('div');\n",
              "        docLink.innerHTML = docLinkHtml;\n",
              "        element.appendChild(docLink);\n",
              "      }\n",
              "    </script>\n",
              "  </div>\n",
              "\n",
              "\n",
              "    <div id=\"df-34e142e4-95ef-4cd5-b6ee-4855c5bb9def\">\n",
              "      <button class=\"colab-df-quickchart\" onclick=\"quickchart('df-34e142e4-95ef-4cd5-b6ee-4855c5bb9def')\"\n",
              "                title=\"Suggest charts\"\n",
              "                style=\"display:none;\">\n",
              "\n",
              "<svg xmlns=\"http://www.w3.org/2000/svg\" height=\"24px\"viewBox=\"0 0 24 24\"\n",
              "     width=\"24px\">\n",
              "    <g>\n",
              "        <path d=\"M19 3H5c-1.1 0-2 .9-2 2v14c0 1.1.9 2 2 2h14c1.1 0 2-.9 2-2V5c0-1.1-.9-2-2-2zM9 17H7v-7h2v7zm4 0h-2V7h2v10zm4 0h-2v-4h2v4z\"/>\n",
              "    </g>\n",
              "</svg>\n",
              "      </button>\n",
              "\n",
              "<style>\n",
              "  .colab-df-quickchart {\n",
              "      --bg-color: #E8F0FE;\n",
              "      --fill-color: #1967D2;\n",
              "      --hover-bg-color: #E2EBFA;\n",
              "      --hover-fill-color: #174EA6;\n",
              "      --disabled-fill-color: #AAA;\n",
              "      --disabled-bg-color: #DDD;\n",
              "  }\n",
              "\n",
              "  [theme=dark] .colab-df-quickchart {\n",
              "      --bg-color: #3B4455;\n",
              "      --fill-color: #D2E3FC;\n",
              "      --hover-bg-color: #434B5C;\n",
              "      --hover-fill-color: #FFFFFF;\n",
              "      --disabled-bg-color: #3B4455;\n",
              "      --disabled-fill-color: #666;\n",
              "  }\n",
              "\n",
              "  .colab-df-quickchart {\n",
              "    background-color: var(--bg-color);\n",
              "    border: none;\n",
              "    border-radius: 50%;\n",
              "    cursor: pointer;\n",
              "    display: none;\n",
              "    fill: var(--fill-color);\n",
              "    height: 32px;\n",
              "    padding: 0;\n",
              "    width: 32px;\n",
              "  }\n",
              "\n",
              "  .colab-df-quickchart:hover {\n",
              "    background-color: var(--hover-bg-color);\n",
              "    box-shadow: 0 1px 2px rgba(60, 64, 67, 0.3), 0 1px 3px 1px rgba(60, 64, 67, 0.15);\n",
              "    fill: var(--button-hover-fill-color);\n",
              "  }\n",
              "\n",
              "  .colab-df-quickchart-complete:disabled,\n",
              "  .colab-df-quickchart-complete:disabled:hover {\n",
              "    background-color: var(--disabled-bg-color);\n",
              "    fill: var(--disabled-fill-color);\n",
              "    box-shadow: none;\n",
              "  }\n",
              "\n",
              "  .colab-df-spinner {\n",
              "    border: 2px solid var(--fill-color);\n",
              "    border-color: transparent;\n",
              "    border-bottom-color: var(--fill-color);\n",
              "    animation:\n",
              "      spin 1s steps(1) infinite;\n",
              "  }\n",
              "\n",
              "  @keyframes spin {\n",
              "    0% {\n",
              "      border-color: transparent;\n",
              "      border-bottom-color: var(--fill-color);\n",
              "      border-left-color: var(--fill-color);\n",
              "    }\n",
              "    20% {\n",
              "      border-color: transparent;\n",
              "      border-left-color: var(--fill-color);\n",
              "      border-top-color: var(--fill-color);\n",
              "    }\n",
              "    30% {\n",
              "      border-color: transparent;\n",
              "      border-left-color: var(--fill-color);\n",
              "      border-top-color: var(--fill-color);\n",
              "      border-right-color: var(--fill-color);\n",
              "    }\n",
              "    40% {\n",
              "      border-color: transparent;\n",
              "      border-right-color: var(--fill-color);\n",
              "      border-top-color: var(--fill-color);\n",
              "    }\n",
              "    60% {\n",
              "      border-color: transparent;\n",
              "      border-right-color: var(--fill-color);\n",
              "    }\n",
              "    80% {\n",
              "      border-color: transparent;\n",
              "      border-right-color: var(--fill-color);\n",
              "      border-bottom-color: var(--fill-color);\n",
              "    }\n",
              "    90% {\n",
              "      border-color: transparent;\n",
              "      border-bottom-color: var(--fill-color);\n",
              "    }\n",
              "  }\n",
              "</style>\n",
              "\n",
              "      <script>\n",
              "        async function quickchart(key) {\n",
              "          const quickchartButtonEl =\n",
              "            document.querySelector('#' + key + ' button');\n",
              "          quickchartButtonEl.disabled = true;  // To prevent multiple clicks.\n",
              "          quickchartButtonEl.classList.add('colab-df-spinner');\n",
              "          try {\n",
              "            const charts = await google.colab.kernel.invokeFunction(\n",
              "                'suggestCharts', [key], {});\n",
              "          } catch (error) {\n",
              "            console.error('Error during call to suggestCharts:', error);\n",
              "          }\n",
              "          quickchartButtonEl.classList.remove('colab-df-spinner');\n",
              "          quickchartButtonEl.classList.add('colab-df-quickchart-complete');\n",
              "        }\n",
              "        (() => {\n",
              "          let quickchartButtonEl =\n",
              "            document.querySelector('#df-34e142e4-95ef-4cd5-b6ee-4855c5bb9def button');\n",
              "          quickchartButtonEl.style.display =\n",
              "            google.colab.kernel.accessAllowed ? 'block' : 'none';\n",
              "        })();\n",
              "      </script>\n",
              "    </div>\n",
              "    </div>\n",
              "  </div>\n"
            ],
            "application/vnd.google.colaboratory.intrinsic+json": {
              "type": "dataframe",
              "variable_name": "email_df"
            }
          },
          "metadata": {},
          "execution_count": 3
        }
      ],
      "source": [
        "email_df = pd.read_csv(\n",
        "    'email-Eu-core-temporal.txt',\n",
        "    delimiter=' ',\n",
        "    names=['sender', 'receiver', 'timestamp']\n",
        ")\n",
        "email_df"
      ]
    },
    {
      "cell_type": "markdown",
      "id": "0feb5713",
      "metadata": {
        "id": "0feb5713"
      },
      "source": [
        "Next, consider the following preprocessing procedure:\n",
        "1. Select edges by given train and test time periods, for example, [0, 1000) is train and [1000, 2000) is test\n",
        "2. Build a _core_ — a connected network where every edge occurs at least $k_\\text{train}$ times in the train time period or at least $k_\\text{test}$ times in the test time period. Let the core be undirected, so occurrences edges (1, 0) and (0, 1) are computed together.\n",
        "3. From the core, select a train set of edges $E_\\text{train}$ that occur for the first time in the train period. All others are included to $E_\\text{test}$.\n",
        "3. Exclude test edges that contain nodes that do not occur in train edges.\n",
        "\n",
        "Write a function `train_test_edges` that takes a pd.DataFrame `email_df` with e-mail network, a tuple with the train time period borders `train_period`, say, (0, 1000), a similar tuple `test_period`, the number of edges occurrences `ktrain` and `ktest`. The function returns two lists with tuples — train and test edges. Every edge is returned of the form where the first node is less than the second, for example [(1, 2), (2, 3)] is ok, but [(2, 1), (3, 2)] is wrong."
      ]
    },
    {
      "cell_type": "code",
      "execution_count": null,
      "id": "2edf3ba8",
      "metadata": {
        "deletable": false,
        "id": "2edf3ba8",
        "nbgrader": {
          "cell_type": "code",
          "checksum": "d02465886cf63caec30af195db4cf5b9",
          "grade": false,
          "grade_id": "cell-676bd18fcab3c342",
          "locked": false,
          "schema_version": 3,
          "solution": true,
          "task": false
        }
      },
      "outputs": [],
      "source": [
        "def train_test_edges(email_df, train_period, test_period, ktrain, ktest):\n",
        "\n",
        "    email_temp = email_df.copy()\n",
        "    email_temp = email_temp[\n",
        "        (train_period[0] <= email_temp.timestamp)\n",
        "        & (email_temp.timestamp < test_period[1])\n",
        "    ]\n",
        "    email_temp['from'] = email_temp[['sender', 'receiver']].min(axis=1)\n",
        "    email_temp['to'] = email_temp[['sender', 'receiver']].max(axis=1)\n",
        "    email_temp = email_temp.drop(['sender', 'receiver'], axis=1)\n",
        "    email_temp = email_temp.set_index(['from', 'to'])\n",
        "\n",
        "    email_train = email_temp[email_temp.timestamp < train_period[1]]\n",
        "    email_train = email_train.groupby(['from', 'to']).count()\n",
        "    train_core = email_train[email_train.timestamp >= ktrain].index.tolist()\n",
        "\n",
        "    email_test = email_temp[test_period[0] <= email_temp.timestamp]\n",
        "    email_test = email_test.groupby(['from', 'to']).count()\n",
        "    test_core = email_test[email_test.timestamp >= ktest].index.tolist()\n",
        "\n",
        "    core = list(set(train_core + test_core))\n",
        "\n",
        "    # YOUR CODE HERE\n",
        "    #raise NotImplementedError()\n",
        "    email_first = email_temp.loc[core].groupby(['from', 'to']).min()\n",
        "    train_part = email_first[email_first.timestamp < train_period[1]].index.tolist()\n",
        "    test_part  = email_first[email_first.timestamp >= test_period[0]].index.tolist()\n",
        "\n",
        "    train_nodes = set()\n",
        "    for u, v in train_part:\n",
        "      train_nodes.add(u)\n",
        "      train_nodes.add(v)\n",
        "\n",
        "    test_part_new = []\n",
        "    for u, v in test_part:\n",
        "      if u in train_nodes and v in train_nodes:\n",
        "        test_part_new.append((u, v))\n",
        "\n",
        "    return train_part, test_part_new\n",
        "\n"
      ]
    },
    {
      "cell_type": "code",
      "execution_count": null,
      "id": "9a025753",
      "metadata": {
        "deletable": false,
        "editable": false,
        "id": "9a025753",
        "nbgrader": {
          "cell_type": "code",
          "checksum": "986741c4dd56205f3c9f200d31ede426",
          "grade": true,
          "grade_id": "cell-a77f2fa764e87595",
          "locked": true,
          "points": 0,
          "schema_version": 3,
          "solution": false,
          "task": false
        }
      },
      "outputs": [],
      "source": [
        "train_pos, test_pos = train_test_edges(email_df, (1e7, 2e7), (2e7, 2.5e7), 4, 2)\n",
        "_train_pos, _test_pos = np.array(train_pos), np.array(test_pos)\n",
        "assert np.all(_train_pos[:, 0] < _train_pos[:, 1])\n",
        "assert np.all(_test_pos[:, 0] < _test_pos[:, 1])\n",
        "assert len(set(train_pos).intersection(test_pos)) == 0\n",
        "assert _train_pos.shape == (3880, 2)\n",
        "assert _test_pos.shape == (720, 2)"
      ]
    },
    {
      "cell_type": "markdown",
      "id": "db118c19",
      "metadata": {
        "id": "db118c19"
      },
      "source": [
        "### Task 2. Negative sampling (0 points)"
      ]
    },
    {
      "cell_type": "markdown",
      "id": "164761a3",
      "metadata": {
        "id": "164761a3"
      },
      "source": [
        "Usually, graphs are sparse, so there is the high imbalance between existent (positive) edges and nonexistent (negative) edges. Since the link prediction can be considered as a classification problem, the imbalance leads to the high misclassification. To eliminate this problem, we can use the negative sampling techniques, that is using only a some random part of negative edges in training.\n",
        "\n",
        "<img src='https://raw.githubusercontent.com/netspractice/network-science/main/images/pos_neg_edges.png' width=500>\n",
        "\n",
        "The simplest sampling strategy is to copy positive edges and randomly replace one node checking they do not occur in positive set and they are not self-loops. Let the negative set be the same size as the positive.\n",
        "\n",
        "The `negative_sampling` function samples the unexisted edges from the graph. It takes list of train and test positive edges and returns train and test negative edges."
      ]
    },
    {
      "cell_type": "code",
      "execution_count": null,
      "id": "c6ac2008",
      "metadata": {
        "deletable": false,
        "id": "c6ac2008",
        "nbgrader": {
          "cell_type": "code",
          "checksum": "909994f38bc19f1e40c34bd32036ba50",
          "grade": false,
          "grade_id": "cell-2086061e022dc394",
          "locked": false,
          "schema_version": 3,
          "solution": true,
          "task": false
        }
      },
      "outputs": [],
      "source": [
        "def negative_sampling(train_pos, test_pos):\n",
        "    # YOUR CODE HERE\n",
        "    #raise NotImplementedError()\n",
        "    existing_set = set(train_pos).union(set(test_pos))\n",
        "    set_of_nodes = set()\n",
        "    for u, v in train_pos:\n",
        "      set_of_nodes.add(u)\n",
        "      set_of_nodes.add(v)\n",
        "    set_of_nodes = list(set_of_nodes)\n",
        "\n",
        "    train_neg = list()\n",
        "    for u, v in train_pos:\n",
        "      s = v\n",
        "      while s == v or s == u or (u, s) in existing_set or (s, u) in existing_set or (u, s) in train_neg or (s, u)in train_neg:\n",
        "        s = np.random.choice(set_of_nodes)\n",
        "      train_neg.append((u, s))\n",
        "\n",
        "\n",
        "    test_neg = list()\n",
        "    for u, v in test_pos:\n",
        "      s = v\n",
        "      while (s == v or s == u or\n",
        "            (u, s) in existing_set or (s, u) in existing_set or\n",
        "            (u, s) in train_neg or (s, u)in train_neg or\n",
        "            (u, s) in test_neg or (s, u)in test_neg):\n",
        "        s = np.random.choice(set_of_nodes)\n",
        "      test_neg.append((u, s))\n",
        "\n",
        "    return list(train_neg), list(test_neg)\n"
      ]
    },
    {
      "cell_type": "code",
      "execution_count": null,
      "id": "a26c1852",
      "metadata": {
        "deletable": false,
        "editable": false,
        "id": "a26c1852",
        "nbgrader": {
          "cell_type": "code",
          "checksum": "51cc869994fb89807dc2842e2970853c",
          "grade": true,
          "grade_id": "cell-e71e5d52cb2cae88",
          "locked": true,
          "points": 0,
          "schema_version": 3,
          "solution": false,
          "task": false
        }
      },
      "outputs": [],
      "source": [
        "train_neg, test_neg = negative_sampling(train_pos, test_pos)\n",
        "neg_edges = train_neg + test_neg\n",
        "pos_edges = train_pos + test_pos\n",
        "assert len(train_neg) == len(train_pos)\n",
        "assert len(test_neg) == len(test_neg)\n",
        "# negative edges has nodes from only positive edges\n",
        "assert len(set(np.unique(neg_edges)).difference(np.unique(pos_edges))) == 0\n",
        "# source nodes are the same\n",
        "assert np.all(np.array(pos_edges)[:, 0] == np.array(neg_edges)[:, 0])\n",
        "# no edges in both\n",
        "assert len(set(pos_edges) & set(neg_edges)) == 0\n",
        "# reversed negative edges are not positive\n",
        "reversed_neg_edges = [(v, u) for u, v in neg_edges]\n",
        "assert len(set(pos_edges) & set(reversed_neg_edges)) == 0"
      ]
    },
    {
      "cell_type": "markdown",
      "id": "baac0778",
      "metadata": {
        "id": "baac0778"
      },
      "source": [
        "Form train and test pairs of nodes that contain positive and negative edges:\n",
        "* $X_\\text{train}, X_\\text{test}$ — pairs of nodes, contains positive and negative edges\n",
        "* $y_\\text{train}, y_\\text{test}$ — labels of pairs, 1 is positive, 0 is negative"
      ]
    },
    {
      "cell_type": "code",
      "execution_count": null,
      "id": "8f536045",
      "metadata": {
        "id": "8f536045",
        "colab": {
          "base_uri": "https://localhost:8080/"
        },
        "outputId": "360f12fe-a6cb-4976-a74c-d8c3cb597d97"
      },
      "outputs": [
        {
          "output_type": "execute_result",
          "data": {
            "text/plain": [
              "[1, 0, 1, 1, 0, 0, 1, 0, 1, 0]"
            ]
          },
          "metadata": {},
          "execution_count": 15
        }
      ],
      "source": [
        "x_train = np.random.permutation(train_pos + train_neg)\n",
        "y_train = [int((u, v) in train_pos) for (u, v) in x_train]\n",
        "\n",
        "x_test = np.random.permutation(test_pos + test_neg)\n",
        "y_test = [int((u, v) in test_pos) for (u, v) in x_test]\n",
        "y_test[:10]"
      ]
    },
    {
      "cell_type": "markdown",
      "id": "761c1dd6",
      "metadata": {
        "id": "761c1dd6"
      },
      "source": [
        "### Task 3. Prediction by similarity score (0 points)"
      ]
    },
    {
      "cell_type": "markdown",
      "id": "ac2ce3a2",
      "metadata": {
        "id": "ac2ce3a2"
      },
      "source": [
        "Similarity based algorithm predicts the existence of a link using the similarity score of a pair of nodes: $P(A_{i, j}) \\propto \\text{sim}(i, j)$. The algorithm builds a graph using only train positive edges, compute similarity score for all test pairs and then predicts the link existence by the threshold on ordered by similarity score pairs.\n",
        "\n",
        "Write a function `sim_link_prediction` that takes edges and labels. The function predicts links and returns a tuple with metrics:\n",
        "* FPR (false positive rate) and TPR (true positive rate) in descending of thresholds obtained by Jaccard coefficient, `nx.jaccard_coefficient`: $$\\text{sim}(i, j) = \\frac{|N(i) \\cap N(j)|}{|N(i) \\cup N(j)|}$$\n",
        "* FPR, TPR by Adamic-Adar index, `nx.adamic_adar_index`: $$\\text{sim}(i, j) = \\sum_{x \\in N(i) \\cap N(j)} \\frac{1}{\\log|N(x)|}$$\n",
        "* FPR, TPR by resource allocation index, `nx.resource_allocation_index`: $$\\text{sim}(i, j) = \\sum_{x \\in N(i) \\cap N(j)} \\frac{1}{|N(x)|}$$\n",
        "\n",
        "_Hint: use `sklearn.metrics.roc_curve`._"
      ]
    },
    {
      "cell_type": "code",
      "execution_count": null,
      "id": "d56abfae",
      "metadata": {
        "deletable": false,
        "id": "d56abfae",
        "nbgrader": {
          "cell_type": "code",
          "checksum": "32af6091446052edf14c97545c0e6da2",
          "grade": false,
          "grade_id": "cell-4125af6f7f2c4f56",
          "locked": false,
          "schema_version": 3,
          "solution": true,
          "task": false
        }
      },
      "outputs": [],
      "source": [
        "def sim_link_prediction(train_pos, x_test, y_test):\n",
        "    # YOUR CODE HERE\n",
        "    # raise NotImplementedError()\n",
        "    from sklearn.metrics import roc_curve\n",
        "    G = nx.Graph()\n",
        "    G.add_edges_from(train_pos)\n",
        "    similarities = [\n",
        "        nx.jaccard_coefficient,\n",
        "        nx.adamic_adar_index,\n",
        "        nx.resource_allocation_index\n",
        "    ]\n",
        "    res = []\n",
        "\n",
        "    for sim in similarities:\n",
        "      y_pred = [p for u, v, p in sim(G, x_test)]\n",
        "      fpr, tpr, _ = roc_curve(y_test, y_pred)\n",
        "      res.append((fpr, tpr))\n",
        "\n",
        "    return res"
      ]
    },
    {
      "cell_type": "code",
      "execution_count": null,
      "id": "fcf02088",
      "metadata": {
        "deletable": false,
        "editable": false,
        "id": "fcf02088",
        "nbgrader": {
          "cell_type": "code",
          "checksum": "4a3967a4ee95707916508fbf44c47d3f",
          "grade": true,
          "grade_id": "cell-ea34274053a92113",
          "locked": true,
          "points": 0,
          "schema_version": 3,
          "solution": false,
          "task": false
        }
      },
      "outputs": [],
      "source": [
        "jac, adam, res = sim_link_prediction(\n",
        "    train_pos,\n",
        "    [[53, 500], [500, 843], [509, 969], [40, 91], [147, 28], [91, 535], [890, 15]],\n",
        "    [1, 0, 1, 0, 0, 1, 0],\n",
        ")\n",
        "assert jac[0].shape == jac[1].shape\n",
        "assert adam[0].shape == adam[1].shape\n",
        "assert res[0].shape == res[1].shape\n",
        "assert round(auc(jac[0], jac[1]), 4) == 0.5\n",
        "assert round(auc(adam[0], adam[1]), 4) == 0.4167\n",
        "assert round(auc(res[0], res[1]), 4) == 0.4167"
      ]
    },
    {
      "cell_type": "markdown",
      "id": "79c11989",
      "metadata": {
        "id": "79c11989"
      },
      "source": [
        "Let us look at the ROC AUC curve to compare results."
      ]
    },
    {
      "cell_type": "code",
      "execution_count": null,
      "id": "a76d6428",
      "metadata": {
        "id": "a76d6428",
        "colab": {
          "base_uri": "https://localhost:8080/",
          "height": 564
        },
        "outputId": "b1a672be-f396-4d78-d16e-eb5da3a5f521"
      },
      "outputs": [
        {
          "output_type": "display_data",
          "data": {
            "text/plain": [
              "<Figure size 1000x600 with 1 Axes>"
            ],
            "image/png": "[encoded data removed]"
          },
          "metadata": {}
        }
      ],
      "source": [
        "jac, adam, res = sim_link_prediction(train_pos, x_test, y_test)\n",
        "plt.figure(figsize=(10, 6))\n",
        "cases = [[jac[0], jac[1], 'Jaccard'],\n",
        "         [adam[0], adam[1], 'Adamic-Adar'],\n",
        "         [res[0], res[1], 'Resource alloc.']]\n",
        "for fpr, tpr, label in cases:\n",
        "    plt.plot(fpr, tpr, lw=2,\n",
        "             label='{}, AUC={:.4f}'.format(label, auc(fpr, tpr)))\n",
        "plt.plot([0, 1], [0, 1], lw=2, linestyle='--')\n",
        "plt.xlabel('FPR')\n",
        "plt.ylabel('TPR')\n",
        "plt.title('ROC AUC')\n",
        "plt.legend()\n",
        "plt.show()"
      ]
    },
    {
      "cell_type": "markdown",
      "id": "d9ee366c",
      "metadata": {
        "id": "d9ee366c"
      },
      "source": [
        "### Task 4. Dot product predictor on node embeddings (3 points)"
      ]
    },
    {
      "cell_type": "markdown",
      "id": "75f0c96f",
      "metadata": {
        "id": "75f0c96f"
      },
      "source": [
        "Similarly to the node classification task, node embeddings could be helpful in the link prediction problem. We can predict a link if two nodes are similar in latent space. One of simple methods to obtain similarity score is using dot product of node embeddings: $$P(A_{i, j}) \\propto \\langle e_i, e_j \\rangle.$$\n",
        "\n",
        "Here we obtain 16d SVD node embeddings by `sklearn.decompose.TruncatedSVD` on the adjacency matrix."
      ]
    },
    {
      "cell_type": "code",
      "execution_count": null,
      "id": "0d106b76",
      "metadata": {
        "id": "0d106b76",
        "colab": {
          "base_uri": "https://localhost:8080/"
        },
        "outputId": "6c4f6828-3f3e-46d5-bb49-4cf5ee8f18e5"
      },
      "outputs": [
        {
          "output_type": "execute_result",
          "data": {
            "text/plain": [
              "array([[ 0.77, -0.75, -0.45, ..., -0.26,  0.1 , -0.22],\n",
              "       [ 0.04, -0.01, -0.04, ..., -0.02,  0.12,  0.01],\n",
              "       [ 1.83,  0.95,  0.24, ..., -0.26,  0.09, -0.19],\n",
              "       ...,\n",
              "       [ 0.01, -0.  , -0.01, ...,  0.04,  0.02, -0.03],\n",
              "       [ 0.14, -0.05, -0.12, ...,  0.18,  0.03, -0.13],\n",
              "       [ 0.35, -0.3 , -0.37, ..., -0.38,  0.21,  0.15]])"
            ]
          },
          "metadata": {},
          "execution_count": 19
        }
      ],
      "source": [
        "G = nx.Graph()\n",
        "G.add_nodes_from(range(np.max(train_pos) + 1))\n",
        "G.add_edges_from(train_pos)\n",
        "A = nx.to_numpy_array(G)\n",
        "model = TruncatedSVD(n_components=16)\n",
        "emb = model.fit_transform(A)\n",
        "emb.round(2)"
      ]
    },
    {
      "cell_type": "markdown",
      "id": "6e5ca153",
      "metadata": {
        "id": "6e5ca153"
      },
      "source": [
        "Write a function `dot_product_prediction` that takes node embeddings, test pairs, returns FPR and TPR for the test pairs."
      ]
    },
    {
      "cell_type": "code",
      "execution_count": null,
      "id": "9171ecfb",
      "metadata": {
        "deletable": false,
        "id": "9171ecfb",
        "nbgrader": {
          "cell_type": "code",
          "checksum": "d2a9a90393f4821ede00fb251e579dfd",
          "grade": false,
          "grade_id": "cell-e3728903f481eed8",
          "locked": false,
          "schema_version": 3,
          "solution": true,
          "task": false
        }
      },
      "outputs": [],
      "source": [
        "def dot_product_prediction(emb, x_test, y_test):\n",
        "    # YOUR CODE HERE\n",
        "    raise NotImplementedError()"
      ]
    },
    {
      "cell_type": "code",
      "execution_count": null,
      "id": "8d6f1703",
      "metadata": {
        "deletable": false,
        "editable": false,
        "id": "8d6f1703",
        "nbgrader": {
          "cell_type": "code",
          "checksum": "1475de791c3f09374b5bd06574a1b5b4",
          "grade": true,
          "grade_id": "cell-d7b6b9f3c20abc71",
          "locked": true,
          "points": 3,
          "schema_version": 3,
          "solution": false,
          "task": false
        }
      },
      "outputs": [],
      "source": [
        "fpr, tpr = dot_product_prediction(np.random.random(emb.shape), x_test, y_test)\n",
        "assert 0.45 < auc(fpr, tpr) < 0.55\n",
        "fpr, tpr = dot_product_prediction(emb, x_test, y_test)\n",
        "assert 0.75 < auc(fpr, tpr) < 0.85"
      ]
    },
    {
      "cell_type": "code",
      "execution_count": null,
      "id": "00914154",
      "metadata": {
        "id": "00914154"
      },
      "outputs": [],
      "source": [
        "plt.figure(figsize=(10, 6))\n",
        "plt.plot(fpr, tpr, lw=2,\n",
        "         label='{}, AUC={:.4f}'.format('Dot prod. on SVD emb.', auc(fpr, tpr)))\n",
        "plt.plot([0, 1], [0, 1], lw=2, linestyle='--')\n",
        "plt.xlabel('FPR')\n",
        "plt.ylabel('TPR')\n",
        "plt.title('ROC AUC')\n",
        "plt.legend()\n",
        "plt.show()"
      ]
    },
    {
      "cell_type": "markdown",
      "id": "15c67453",
      "metadata": {
        "id": "15c67453"
      },
      "source": [
        "### Task 5. Evaluation metrics for recommender systems (3 points)"
      ]
    },
    {
      "cell_type": "markdown",
      "id": "09319913",
      "metadata": {
        "id": "09319913"
      },
      "source": [
        "Recommender systems are algorithms aimed at suggesting relevant items to users (suggest to users the right contents, matching their preferences), that is ordered by relevance items for a specific user. Link prediction algorithm can be considered as a recommender system on a network, for example, to recommend friends in a social service, or recommend similar films in a film page.\n",
        "\n",
        "Metrics for recommender system are based on *ranking* of suggested items. Let us consider the HR@K (hit ratio at k) metric. HR@k measures the proportion of users who have at least one click on the top-k recommended items:\n",
        "$$\n",
        "\\text{HR@k} =\\frac{1}{|V|} \\Sigma_{u \\in V} I\\left(\\left|R^{k}(u) \\cap T(u)\\right|>0\\right)\n",
        "$$\n",
        "where $V$ — nodes, $R^k(u)$ — top-k nodes adjacent to node $u$ ordered by link prediction score (probability of existance), $T(u)$ — nodes adjacent to node $u$ in positive test edges, $I(\\cdot)$ is an indicator function.\n",
        "\n",
        "Let us evaluate dot product predictor on SVD node embeddings using HR@k metric. Here we use a whole similarity matrix of dot product predictor."
      ]
    },
    {
      "cell_type": "code",
      "execution_count": null,
      "id": "99149fb0",
      "metadata": {
        "id": "99149fb0",
        "colab": {
          "base_uri": "https://localhost:8080/"
        },
        "outputId": "13ee40df-035a-42ab-a706-acedfc499f07"
      },
      "outputs": [
        {
          "output_type": "execute_result",
          "data": {
            "text/plain": [
              "(1005, 1005)"
            ]
          },
          "metadata": {},
          "execution_count": 21
        }
      ],
      "source": [
        "G = nx.Graph()\n",
        "G.add_nodes_from(range(np.max(train_pos) + 1))\n",
        "G.add_edges_from(train_pos)\n",
        "A = nx.to_numpy_array(G)\n",
        "model = TruncatedSVD(n_components=16, random_state=0)\n",
        "emb = model.fit_transform(A)\n",
        "sim_matrix = emb @ emb.T\n",
        "sim_matrix.shape"
      ]
    },
    {
      "cell_type": "markdown",
      "id": "89acfe5f",
      "metadata": {
        "id": "89acfe5f"
      },
      "source": [
        "Write a function `hr_at_k_score` that takes test positive edges, similarity matrix and returns np.array of HR@k scores for all nodes in test positive edges *before averaging*."
      ]
    },
    {
      "cell_type": "code",
      "execution_count": null,
      "id": "53dc841f",
      "metadata": {
        "deletable": false,
        "id": "53dc841f",
        "nbgrader": {
          "cell_type": "code",
          "checksum": "90521f24bd2624fe134ef71b62c83683",
          "grade": false,
          "grade_id": "cell-3142a22f9acde4db",
          "locked": false,
          "schema_version": 3,
          "solution": true,
          "task": false
        }
      },
      "outputs": [],
      "source": [
        "def hr_at_k_score(test_pos, sim_matrix, k):\n",
        "    # YOUR CODE HERE\n",
        "    raise NotImplementedError()"
      ]
    },
    {
      "cell_type": "code",
      "execution_count": null,
      "id": "5cad7017",
      "metadata": {
        "deletable": false,
        "editable": false,
        "id": "5cad7017",
        "nbgrader": {
          "cell_type": "code",
          "checksum": "d15e32f8bf31b9e7c29ecdffcc8b296d",
          "grade": true,
          "grade_id": "cell-733c61db65b570f1",
          "locked": true,
          "points": 3,
          "schema_version": 3,
          "solution": false,
          "task": false
        }
      },
      "outputs": [],
      "source": [
        "rmatrix = np.random.random(sim_matrix.shape)\n",
        "random_1 = hr_at_k_score(test_pos, rmatrix, k=1)\n",
        "assert random_1.shape[0] == len(np.unique(test_pos))\n",
        "assert 0 <= random_1.mean() <= 1\n",
        "dotprod_1 = hr_at_k_score(test_pos, sim_matrix, k=1)\n",
        "dotprod_5 = hr_at_k_score(test_pos, sim_matrix, k=5)\n",
        "assert random_1.mean() < dotprod_1.mean()\n",
        "assert dotprod_1.mean() < dotprod_5.mean()"
      ]
    },
    {
      "cell_type": "markdown",
      "id": "6f02f499",
      "metadata": {
        "id": "6f02f499"
      },
      "source": [
        "Let us compare dot product predictor with random guess by HR@K metric."
      ]
    },
    {
      "cell_type": "code",
      "execution_count": null,
      "id": "47f5ea54",
      "metadata": {
        "id": "47f5ea54"
      },
      "outputs": [],
      "source": [
        "random_hrk = []\n",
        "dotpor_hrk = []\n",
        "for k in [1, 5, 10, 20]:\n",
        "    random_hrk.append(hr_at_k_score(test_pos, rmatrix, k).mean())\n",
        "    dotpor_hrk.append(hr_at_k_score(test_pos, sim_matrix, k).mean())\n",
        "plt.bar(['1', '5', '10', '20'], random_hrk, width=-0.4, align='edge', label='Random guess')\n",
        "plt.bar(['1', '5', '10', '20'], dotpor_hrk, width=0.4, align='edge', label='Dot prod. on SDV emb.')\n",
        "plt.legend()\n",
        "plt.xlabel('k')\n",
        "plt.title('HR@k score')\n",
        "plt.show()"
      ]
    },
    {
      "cell_type": "markdown",
      "id": "17b7fba9",
      "metadata": {
        "id": "17b7fba9"
      },
      "source": [
        "### Task 6. Classification on edge emdeddings (4 points)"
      ]
    },
    {
      "cell_type": "markdown",
      "id": "e7b67157",
      "metadata": {
        "id": "e7b67157"
      },
      "source": [
        "Edge emeddings can be used for edge classification by any supervised algorithm (e.g. logistic regression). We can compute edge embeddings using embeddings of adjacent nodes. Let us compare several techniques of a such calculation from the paper: *Makarov I, Gerasimova O, Sulimov P, Zhukov LE. 2019. Dual network embedding for representing research interests in the link prediction problem on co-authorship networks*. Let us use SVD node embeddings for calculating edge embeddings."
      ]
    },
    {
      "cell_type": "code",
      "execution_count": null,
      "id": "ba750d1f",
      "metadata": {
        "id": "ba750d1f",
        "colab": {
          "base_uri": "https://localhost:8080/"
        },
        "outputId": "716f1d13-2c02-4172-fc18-f5b0814c9542"
      },
      "outputs": [
        {
          "output_type": "execute_result",
          "data": {
            "text/plain": [
              "array([[ 0.77, -0.75, -0.46,  1.53],\n",
              "       [ 0.04, -0.01, -0.04, -0.03],\n",
              "       [ 1.83,  0.95,  0.24,  0.33],\n",
              "       ...,\n",
              "       [ 0.01, -0.  , -0.01, -0.01],\n",
              "       [ 0.14, -0.05, -0.12, -0.06],\n",
              "       [ 0.35, -0.3 , -0.37,  0.85]])"
            ]
          },
          "metadata": {},
          "execution_count": 22
        }
      ],
      "source": [
        "G = nx.Graph()\n",
        "G.add_nodes_from(range(np.max(train_pos) + 1))\n",
        "G.add_edges_from(train_pos)\n",
        "A = nx.to_numpy_array(G)\n",
        "model = TruncatedSVD(n_components=4, random_state=0)\n",
        "emb = model.fit_transform(A)\n",
        "emb.round(2)"
      ]
    },
    {
      "cell_type": "markdown",
      "id": "4ca30dc6",
      "metadata": {
        "id": "4ca30dc6"
      },
      "source": [
        "All following functions return edge embeddings for given graph, node embeddings, edges. Average operator is the elementwise average of node embeddings.\n",
        "$$\n",
        "\\frac{f(u)+f(v)}{2}\n",
        "$$\n",
        "where $f(u)$, $f(v)$ are node embeddings of nodes $u$ and $v$."
      ]
    },
    {
      "cell_type": "code",
      "execution_count": null,
      "id": "1a3674cb",
      "metadata": {
        "deletable": false,
        "id": "1a3674cb",
        "nbgrader": {
          "cell_type": "code",
          "checksum": "58f462d94128ad39168d5c1651115bbc",
          "grade": false,
          "grade_id": "cell-26173c0c479136b7",
          "locked": false,
          "schema_version": 3,
          "solution": true,
          "task": false
        }
      },
      "outputs": [],
      "source": [
        "def average_operator(G, embeddings, edges):\n",
        "    # YOUR CODE HERE\n",
        "    raise NotImplementedError()"
      ]
    },
    {
      "cell_type": "code",
      "execution_count": null,
      "id": "a7fda998",
      "metadata": {
        "deletable": false,
        "editable": false,
        "id": "a7fda998",
        "nbgrader": {
          "cell_type": "code",
          "checksum": "1e3bbaf8aa7f5e7d6f462cc0f92775ee",
          "grade": true,
          "grade_id": "cell-eaefe9963be3c2d0",
          "locked": true,
          "points": 0.57,
          "schema_version": 3,
          "solution": false,
          "task": false
        }
      },
      "outputs": [],
      "source": [
        "assert np.allclose(\n",
        "    average_operator(G, emb, np.array([[42,70]])).round(1),\n",
        "    [[ 0.6, -0.2, -0.3, -0.2]]\n",
        ")"
      ]
    },
    {
      "cell_type": "markdown",
      "id": "4197cb89",
      "metadata": {
        "id": "4197cb89"
      },
      "source": [
        "Hadamard product is the elementwise product of node embeddings $$f(u) \\odot f(v)$$"
      ]
    },
    {
      "cell_type": "code",
      "execution_count": null,
      "id": "134b41f7",
      "metadata": {
        "deletable": false,
        "id": "134b41f7",
        "nbgrader": {
          "cell_type": "code",
          "checksum": "dca0930cdead56210ac1d3ed38a1da2d",
          "grade": false,
          "grade_id": "cell-f662abe3d0579575",
          "locked": false,
          "schema_version": 3,
          "solution": true,
          "task": false
        }
      },
      "outputs": [],
      "source": [
        "def hadamard_operator(G, embeddings, edges):\n",
        "    # YOUR CODE HERE\n",
        "    raise NotImplementedError()"
      ]
    },
    {
      "cell_type": "code",
      "execution_count": null,
      "id": "54147f5f",
      "metadata": {
        "deletable": false,
        "editable": false,
        "id": "54147f5f",
        "nbgrader": {
          "cell_type": "code",
          "checksum": "26c06cc181807ba861df3b2dde3ea277",
          "grade": true,
          "grade_id": "cell-db04660af550adc7",
          "locked": true,
          "points": 0.57,
          "schema_version": 3,
          "solution": false,
          "task": false
        }
      },
      "outputs": [],
      "source": [
        "assert np.allclose(\n",
        "    hadamard_operator(G, emb, np.array([[42,70]])).round(2),\n",
        "    [[0.21, 0.02, 0.09, 0.02]]\n",
        ")"
      ]
    },
    {
      "cell_type": "markdown",
      "id": "7deb491d",
      "metadata": {
        "id": "7deb491d"
      },
      "source": [
        "Weighted L1 is the absolute elementwise difference between node embeddings $$\n",
        "\\left|f(u)-f(v)\\right|\n",
        "$$"
      ]
    },
    {
      "cell_type": "code",
      "execution_count": null,
      "id": "82938ad8",
      "metadata": {
        "deletable": false,
        "id": "82938ad8",
        "nbgrader": {
          "cell_type": "code",
          "checksum": "d6257c4c2eb4680600acc5867ddba862",
          "grade": false,
          "grade_id": "cell-5e44fbdf6a64715d",
          "locked": false,
          "schema_version": 3,
          "solution": true,
          "task": false
        }
      },
      "outputs": [],
      "source": [
        "def weighted_l1_operator(G, embeddings, edges):\n",
        "    # YOUR CODE HERE\n",
        "    raise NotImplementedError()"
      ]
    },
    {
      "cell_type": "code",
      "execution_count": null,
      "id": "a0e711e4",
      "metadata": {
        "deletable": false,
        "editable": false,
        "id": "a0e711e4",
        "nbgrader": {
          "cell_type": "code",
          "checksum": "cff254b8a9077abb2b6b60085851510d",
          "grade": true,
          "grade_id": "cell-f2c7878af729fcb5",
          "locked": true,
          "points": 0.57,
          "schema_version": 3,
          "solution": false,
          "task": false
        }
      },
      "outputs": [],
      "source": [
        "assert np.allclose(\n",
        "    weighted_l1_operator(G, emb, np.array([[42,70]])).round(2),\n",
        "    [[0.88, 0.12, 0.28, 0.17]]\n",
        ")"
      ]
    },
    {
      "cell_type": "markdown",
      "id": "08ce6529",
      "metadata": {
        "id": "08ce6529"
      },
      "source": [
        "Weighted L2 is the squared elementwise difference between node embeddings $$\n",
        "\\left(f(u)-f(v)\\right)^{2}\n",
        "$$"
      ]
    },
    {
      "cell_type": "code",
      "execution_count": null,
      "id": "47774f3a",
      "metadata": {
        "deletable": false,
        "id": "47774f3a",
        "nbgrader": {
          "cell_type": "code",
          "checksum": "c81ca1cb9941e2216cb755dcb6b1d6df",
          "grade": false,
          "grade_id": "cell-0f7f5b3663337374",
          "locked": false,
          "schema_version": 3,
          "solution": true,
          "task": false
        }
      },
      "outputs": [],
      "source": [
        "def weighted_l2_operator(G, embeddings, edges):\n",
        "    # YOUR CODE HERE\n",
        "    raise NotImplementedError()"
      ]
    },
    {
      "cell_type": "code",
      "execution_count": null,
      "id": "3f565493",
      "metadata": {
        "deletable": false,
        "editable": false,
        "id": "3f565493",
        "nbgrader": {
          "cell_type": "code",
          "checksum": "6ec75dc437072c6eb43baf668f1164e2",
          "grade": true,
          "grade_id": "cell-957e1faea3e9127d",
          "locked": true,
          "points": 0.57,
          "schema_version": 3,
          "solution": false,
          "task": false
        }
      },
      "outputs": [],
      "source": [
        "assert np.allclose(\n",
        "    weighted_l2_operator(G, emb, np.array([[42,70]])).round(2),\n",
        "    [[0.77, 0.01, 0.08, 0.03]]\n",
        ")"
      ]
    },
    {
      "cell_type": "markdown",
      "id": "f87677d8",
      "metadata": {
        "id": "f87677d8"
      },
      "source": [
        "Neighbor weighted L1 is the absolute elementwise difference between mean embeddings of nodes neigbors $$\n",
        "\\left|\\frac{\\sum_{w \\in N(u) \\cup\\{u\\}} f(w)}{|N(u)|+1}-\\frac{\\sum_{t \\in N(v) \\cup\\{v\\}} f(t)}{|N(v)|+1}\\right|\n",
        "$$"
      ]
    },
    {
      "cell_type": "code",
      "execution_count": null,
      "id": "537c4eb9",
      "metadata": {
        "deletable": false,
        "id": "537c4eb9",
        "nbgrader": {
          "cell_type": "code",
          "checksum": "91862e3967ecf48894e45a0adf8af354",
          "grade": false,
          "grade_id": "cell-9663ec4df9dbb751",
          "locked": false,
          "schema_version": 3,
          "solution": true,
          "task": false
        }
      },
      "outputs": [],
      "source": [
        "def neighbor_weighted_l1_operator(G, embeddings, edges):\n",
        "    # YOUR CODE HERE\n",
        "    raise NotImplementedError()"
      ]
    },
    {
      "cell_type": "code",
      "execution_count": null,
      "id": "ab13e835",
      "metadata": {
        "deletable": false,
        "editable": false,
        "id": "ab13e835",
        "nbgrader": {
          "cell_type": "code",
          "checksum": "970c516b627d54fff1ca8458bd8d61ce",
          "grade": true,
          "grade_id": "cell-fe7f124fa265373c",
          "locked": true,
          "points": 0.57,
          "schema_version": 3,
          "solution": false,
          "task": false
        }
      },
      "outputs": [],
      "source": [
        "assert np.allclose(\n",
        "    neighbor_weighted_l1_operator(G, emb, np.array([[42,70]])).round(2),\n",
        "    [[1.89, 0.14, 0.3 , 0.18]]\n",
        ")"
      ]
    },
    {
      "cell_type": "markdown",
      "id": "ed72981d",
      "metadata": {
        "id": "ed72981d"
      },
      "source": [
        "Neighbor weighted L2 is the squared elementwise difference between mean embeddings of nodes neigbors\n",
        "$$\n",
        "\\left(\\frac{\\sum_{w \\in N(u) \\cup\\{u\\}} f(w)}{|N(u)|+1}-\\frac{\\sum_{t \\in N(v) \\cup\\{v\\}} f(t)}{|N(v)|+1}\\right)^{2}\n",
        "$$"
      ]
    },
    {
      "cell_type": "code",
      "execution_count": null,
      "id": "f037a421",
      "metadata": {
        "deletable": false,
        "id": "f037a421",
        "nbgrader": {
          "cell_type": "code",
          "checksum": "6fe87475999a79b39066260f060f80ca",
          "grade": false,
          "grade_id": "cell-cb55782d381636cd",
          "locked": false,
          "schema_version": 3,
          "solution": true,
          "task": false
        }
      },
      "outputs": [],
      "source": [
        "def neighbor_weighted_l2_operator(G, embeddings, edges):\n",
        "    # YOUR CODE HERE\n",
        "    raise NotImplementedError()"
      ]
    },
    {
      "cell_type": "code",
      "execution_count": null,
      "id": "ffb1199b",
      "metadata": {
        "deletable": false,
        "editable": false,
        "id": "ffb1199b",
        "nbgrader": {
          "cell_type": "code",
          "checksum": "8f676c5be3081e084f9b96c8d550c266",
          "grade": true,
          "grade_id": "cell-b3ea740a7d8e7422",
          "locked": true,
          "points": 0.57,
          "schema_version": 3,
          "solution": false,
          "task": false
        }
      },
      "outputs": [],
      "source": [
        "assert np.allclose(\n",
        "    neighbor_weighted_l2_operator(G, emb, np.array([[42,70]])).round(2),\n",
        "    [[3.58, 0.02, 0.09, 0.03]]\n",
        ")"
      ]
    },
    {
      "cell_type": "markdown",
      "id": "e8dbbfdd",
      "metadata": {
        "id": "e8dbbfdd"
      },
      "source": [
        "Now let us look at the ROC AUC for different operators on 16d SVD nome embeddings."
      ]
    },
    {
      "cell_type": "code",
      "execution_count": null,
      "id": "b69221cf",
      "metadata": {
        "deletable": false,
        "editable": false,
        "id": "b69221cf",
        "nbgrader": {
          "cell_type": "code",
          "checksum": "cc517d17620e9ac0bafb7c9d654f69f0",
          "grade": true,
          "grade_id": "cell-a5776c997347476f",
          "locked": true,
          "points": 0.5800000000000005,
          "schema_version": 3,
          "solution": false,
          "task": false
        }
      },
      "outputs": [],
      "source": [
        "model = TruncatedSVD(n_components=16, random_state=0)\n",
        "emb = model.fit_transform(A)\n",
        "\n",
        "operators = {\n",
        "    \"Average\": average_operator,\n",
        "    \"Hadamard product\": hadamard_operator,\n",
        "    \"Weighted L1\": weighted_l1_operator,\n",
        "    \"Weighted L2\": weighted_l2_operator,\n",
        "    \"Neighbor weighted L1\": neighbor_weighted_l1_operator,\n",
        "    \"Neighbor weighted L2\": neighbor_weighted_l2_operator\n",
        "}\n",
        "\n",
        "res = dict()\n",
        "for name, operator in operators.items():\n",
        "    lr = LogisticRegression()\n",
        "    train_emb = operator(G, emb, x_train)\n",
        "    lr.fit(train_emb, y_train)\n",
        "    test_emb = operator(G, emb, x_test)\n",
        "    y_pred = lr.predict_proba(test_emb)[:, 1]\n",
        "    fpr, tpr, _ = roc_curve(y_test, y_pred)\n",
        "    res[name] = {\n",
        "        'fpr': fpr,\n",
        "        'tpr': tpr\n",
        "    }\n",
        "\n",
        "assert auc(fpr, tpr) > 0.75"
      ]
    },
    {
      "cell_type": "code",
      "execution_count": null,
      "id": "b9ec5b34",
      "metadata": {
        "id": "b9ec5b34"
      },
      "outputs": [],
      "source": [
        "plt.figure(figsize=(10, 6))\n",
        "for label, v in res.items():\n",
        "    fpr, tpr = v['fpr'], v['tpr']\n",
        "    plt.plot(fpr, tpr, lw=2,\n",
        "             label='{}, AUC={:.4f}'.format(label, auc(fpr, tpr)))\n",
        "plt.plot([0, 1], [0, 1], lw=2, linestyle='--')\n",
        "plt.xlabel('FPR')\n",
        "plt.ylabel('TPR')\n",
        "plt.title('ROC AUC')\n",
        "plt.legend()\n",
        "plt.show()"
      ]
    },
    {
      "cell_type": "code",
      "execution_count": null,
      "id": "2d396ada",
      "metadata": {
        "id": "2d396ada"
      },
      "outputs": [],
      "source": []
    }
  ],
  "metadata": {
    "kernelspec": {
      "display_name": "Python 3",
      "language": "python",
      "name": "python3"
    },
    "language_info": {
      "codemirror_mode": {
        "name": "ipython",
        "version": 3
      },
      "file_extension": ".py",
      "mimetype": "text/x-python",
      "name": "python",
      "nbconvert_exporter": "python",
      "pygments_lexer": "ipython3",
      "version": "3.7.4"
    },
    "colab": {
      "provenance": [],
      "include_colab_link": true
    }
  },
  "nbformat": 4,
  "nbformat_minor": 5
}